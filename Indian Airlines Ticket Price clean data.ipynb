{
 "cells": [
  {
   "cell_type": "markdown",
   "id": "28d4214d-0379-483d-a0c1-00be4a5d9f0f",
   "metadata": {},
   "source": [
    "# Project - Analyzing Indian Flight Prices and Patterns\n",
    "### **Team members**\n",
    "##### 1: suraj -- Data Cleaning \n",
    "##### 2: Afifa -- EDA(Exploratory Data Analysis)\n",
    "##### 3: shubham -- SQL(structured query language)\n"
   ]
  },
  {
   "cell_type": "code",
   "execution_count": 1,
   "id": "02e6854e-9177-4db9-bc5e-92164a643746",
   "metadata": {},
   "outputs": [],
   "source": [
    "import pandas as pd \n",
    "import numpy as np \n"
   ]
  },
  {
   "cell_type": "markdown",
   "id": "ee50cb5c-8799-431a-b9ae-a5fd9d526092",
   "metadata": {},
   "source": [
    "# First table "
   ]
  },
  {
   "cell_type": "code",
   "execution_count": 176,
   "id": "fce4fba9-ccc0-48ae-a733-cf937f901826",
   "metadata": {},
   "outputs": [
    {
     "data": {
      "text/html": [
       "<div>\n",
       "<style scoped>\n",
       "    .dataframe tbody tr th:only-of-type {\n",
       "        vertical-align: middle;\n",
       "    }\n",
       "\n",
       "    .dataframe tbody tr th {\n",
       "        vertical-align: top;\n",
       "    }\n",
       "\n",
       "    .dataframe thead th {\n",
       "        text-align: right;\n",
       "    }\n",
       "</style>\n",
       "<table border=\"1\" class=\"dataframe\">\n",
       "  <thead>\n",
       "    <tr style=\"text-align: right;\">\n",
       "      <th></th>\n",
       "      <th>airline</th>\n",
       "      <th>flight</th>\n",
       "      <th>source_city</th>\n",
       "      <th>departure_time</th>\n",
       "      <th>stops</th>\n",
       "      <th>arrival_time</th>\n",
       "      <th>destination_city</th>\n",
       "      <th>class</th>\n",
       "      <th>duration</th>\n",
       "      <th>days_left</th>\n",
       "      <th>price</th>\n",
       "    </tr>\n",
       "  </thead>\n",
       "  <tbody>\n",
       "    <tr>\n",
       "      <th>0</th>\n",
       "      <td>SpiceJet</td>\n",
       "      <td>SG-8709</td>\n",
       "      <td>Delhi</td>\n",
       "      <td>Evening</td>\n",
       "      <td>zero</td>\n",
       "      <td>Night</td>\n",
       "      <td>Mumbai</td>\n",
       "      <td>Economy</td>\n",
       "      <td>2.17</td>\n",
       "      <td>1</td>\n",
       "      <td>5953</td>\n",
       "    </tr>\n",
       "    <tr>\n",
       "      <th>1</th>\n",
       "      <td>SpiceJet</td>\n",
       "      <td>SG-8157</td>\n",
       "      <td>Delhi</td>\n",
       "      <td>Early_Morning</td>\n",
       "      <td>zero</td>\n",
       "      <td>Morning</td>\n",
       "      <td>Mumbai</td>\n",
       "      <td>Economy</td>\n",
       "      <td>2.33</td>\n",
       "      <td>1</td>\n",
       "      <td>5953</td>\n",
       "    </tr>\n",
       "  </tbody>\n",
       "</table>\n",
       "</div>"
      ],
      "text/plain": [
       "    airline   flight source_city departure_time stops arrival_time  \\\n",
       "0  SpiceJet  SG-8709       Delhi        Evening  zero        Night   \n",
       "1  SpiceJet  SG-8157       Delhi  Early_Morning  zero      Morning   \n",
       "\n",
       "  destination_city    class  duration  days_left  price  \n",
       "0           Mumbai  Economy      2.17          1   5953  \n",
       "1           Mumbai  Economy      2.33          1   5953  "
      ]
     },
     "execution_count": 176,
     "metadata": {},
     "output_type": "execute_result"
    }
   ],
   "source": [
    "df1 = pd.read_csv('Indian_Airlines.csv', index_col=0)\n",
    "df.head(2)"
   ]
  },
  {
   "cell_type": "markdown",
   "id": "f73dc3a5-0c86-4988-82a3-fbbadd9f47da",
   "metadata": {},
   "source": [
    "**columns name**"
   ]
  },
  {
   "cell_type": "code",
   "execution_count": 497,
   "id": "5039c741-1058-498f-a005-bd12bfa33c68",
   "metadata": {},
   "outputs": [
    {
     "data": {
      "text/plain": [
       "Index(['Airline', 'Flight', 'Source_city', 'Departure_time', 'Stops',\n",
       "       'Arrival_time', 'Destination_city', 'Class', 'Duration', 'Days_left',\n",
       "       'Price'],\n",
       "      dtype='object')"
      ]
     },
     "execution_count": 497,
     "metadata": {},
     "output_type": "execute_result"
    }
   ],
   "source": [
    "df1.columns"
   ]
  },
  {
   "cell_type": "markdown",
   "id": "f139f38a-32de-445c-9d8a-39573bc3c264",
   "metadata": {},
   "source": [
    "**rows an columns**"
   ]
  },
  {
   "cell_type": "code",
   "execution_count": 177,
   "id": "967e89b8-be68-4841-9d45-700df54b5e0a",
   "metadata": {},
   "outputs": [
    {
     "data": {
      "text/plain": [
       "(300153, 11)"
      ]
     },
     "execution_count": 177,
     "metadata": {},
     "output_type": "execute_result"
    }
   ],
   "source": [
    "df1.shape"
   ]
  },
  {
   "cell_type": "markdown",
   "id": "d8a8220f-f459-4e10-8b33-54f8ab67e76f",
   "metadata": {},
   "source": [
    "##### **Information about data**\n",
    "##### **Data types are right**"
   ]
  },
  {
   "cell_type": "code",
   "execution_count": 178,
   "id": "16d978e7-a394-475f-9bba-e936fc93d1b0",
   "metadata": {},
   "outputs": [
    {
     "name": "stdout",
     "output_type": "stream",
     "text": [
      "<class 'pandas.core.frame.DataFrame'>\n",
      "Index: 300153 entries, 0 to 300152\n",
      "Data columns (total 11 columns):\n",
      " #   Column            Non-Null Count   Dtype  \n",
      "---  ------            --------------   -----  \n",
      " 0   airline           300153 non-null  object \n",
      " 1   flight            300153 non-null  object \n",
      " 2   source_city       300153 non-null  object \n",
      " 3   departure_time    300153 non-null  object \n",
      " 4   stops             300153 non-null  object \n",
      " 5   arrival_time      300153 non-null  object \n",
      " 6   destination_city  300153 non-null  object \n",
      " 7   class             300153 non-null  object \n",
      " 8   duration          300153 non-null  float64\n",
      " 9   days_left         300153 non-null  int64  \n",
      " 10  price             300153 non-null  int64  \n",
      "dtypes: float64(1), int64(2), object(8)\n",
      "memory usage: 27.5+ MB\n"
     ]
    }
   ],
   "source": [
    "df1.info()"
   ]
  },
  {
   "cell_type": "code",
   "execution_count": 179,
   "id": "3e06977f-ac86-44a8-bc39-fdb2a85ee845",
   "metadata": {},
   "outputs": [
    {
     "data": {
      "text/html": [
       "<div>\n",
       "<style scoped>\n",
       "    .dataframe tbody tr th:only-of-type {\n",
       "        vertical-align: middle;\n",
       "    }\n",
       "\n",
       "    .dataframe tbody tr th {\n",
       "        vertical-align: top;\n",
       "    }\n",
       "\n",
       "    .dataframe thead th {\n",
       "        text-align: right;\n",
       "    }\n",
       "</style>\n",
       "<table border=\"1\" class=\"dataframe\">\n",
       "  <thead>\n",
       "    <tr style=\"text-align: right;\">\n",
       "      <th></th>\n",
       "      <th>duration</th>\n",
       "      <th>days_left</th>\n",
       "      <th>price</th>\n",
       "    </tr>\n",
       "  </thead>\n",
       "  <tbody>\n",
       "    <tr>\n",
       "      <th>count</th>\n",
       "      <td>300153.000000</td>\n",
       "      <td>300153.000000</td>\n",
       "      <td>300153.000000</td>\n",
       "    </tr>\n",
       "    <tr>\n",
       "      <th>mean</th>\n",
       "      <td>12.221021</td>\n",
       "      <td>26.004751</td>\n",
       "      <td>20889.660523</td>\n",
       "    </tr>\n",
       "    <tr>\n",
       "      <th>std</th>\n",
       "      <td>7.191997</td>\n",
       "      <td>13.561004</td>\n",
       "      <td>22697.767366</td>\n",
       "    </tr>\n",
       "    <tr>\n",
       "      <th>min</th>\n",
       "      <td>0.830000</td>\n",
       "      <td>1.000000</td>\n",
       "      <td>1105.000000</td>\n",
       "    </tr>\n",
       "    <tr>\n",
       "      <th>25%</th>\n",
       "      <td>6.830000</td>\n",
       "      <td>15.000000</td>\n",
       "      <td>4783.000000</td>\n",
       "    </tr>\n",
       "    <tr>\n",
       "      <th>50%</th>\n",
       "      <td>11.250000</td>\n",
       "      <td>26.000000</td>\n",
       "      <td>7425.000000</td>\n",
       "    </tr>\n",
       "    <tr>\n",
       "      <th>75%</th>\n",
       "      <td>16.170000</td>\n",
       "      <td>38.000000</td>\n",
       "      <td>42521.000000</td>\n",
       "    </tr>\n",
       "    <tr>\n",
       "      <th>max</th>\n",
       "      <td>49.830000</td>\n",
       "      <td>49.000000</td>\n",
       "      <td>123071.000000</td>\n",
       "    </tr>\n",
       "  </tbody>\n",
       "</table>\n",
       "</div>"
      ],
      "text/plain": [
       "            duration      days_left          price\n",
       "count  300153.000000  300153.000000  300153.000000\n",
       "mean       12.221021      26.004751   20889.660523\n",
       "std         7.191997      13.561004   22697.767366\n",
       "min         0.830000       1.000000    1105.000000\n",
       "25%         6.830000      15.000000    4783.000000\n",
       "50%        11.250000      26.000000    7425.000000\n",
       "75%        16.170000      38.000000   42521.000000\n",
       "max        49.830000      49.000000  123071.000000"
      ]
     },
     "execution_count": 179,
     "metadata": {},
     "output_type": "execute_result"
    }
   ],
   "source": [
    "df1.describe()"
   ]
  },
  {
   "cell_type": "markdown",
   "id": "57ffa65f-2671-4cff-9138-cf7e45283f88",
   "metadata": {},
   "source": [
    "##### **capitalize column first letter**\n"
   ]
  },
  {
   "cell_type": "code",
   "execution_count": 183,
   "id": "a95f262e-d5ed-44f2-9a69-91f1e0ec16ad",
   "metadata": {},
   "outputs": [
    {
     "data": {
      "text/html": [
       "<div>\n",
       "<style scoped>\n",
       "    .dataframe tbody tr th:only-of-type {\n",
       "        vertical-align: middle;\n",
       "    }\n",
       "\n",
       "    .dataframe tbody tr th {\n",
       "        vertical-align: top;\n",
       "    }\n",
       "\n",
       "    .dataframe thead th {\n",
       "        text-align: right;\n",
       "    }\n",
       "</style>\n",
       "<table border=\"1\" class=\"dataframe\">\n",
       "  <thead>\n",
       "    <tr style=\"text-align: right;\">\n",
       "      <th></th>\n",
       "      <th>Airline</th>\n",
       "      <th>Flight</th>\n",
       "      <th>Source_city</th>\n",
       "      <th>Departure_time</th>\n",
       "      <th>Stops</th>\n",
       "      <th>Arrival_time</th>\n",
       "      <th>Destination_city</th>\n",
       "      <th>Class</th>\n",
       "      <th>Duration</th>\n",
       "      <th>Days_left</th>\n",
       "      <th>Price</th>\n",
       "    </tr>\n",
       "  </thead>\n",
       "  <tbody>\n",
       "    <tr>\n",
       "      <th>0</th>\n",
       "      <td>SpiceJet</td>\n",
       "      <td>SG-8709</td>\n",
       "      <td>Delhi</td>\n",
       "      <td>Evening</td>\n",
       "      <td>zero</td>\n",
       "      <td>Night</td>\n",
       "      <td>Mumbai</td>\n",
       "      <td>Economy</td>\n",
       "      <td>2.17</td>\n",
       "      <td>1</td>\n",
       "      <td>5953</td>\n",
       "    </tr>\n",
       "    <tr>\n",
       "      <th>1</th>\n",
       "      <td>SpiceJet</td>\n",
       "      <td>SG-8157</td>\n",
       "      <td>Delhi</td>\n",
       "      <td>Early_Morning</td>\n",
       "      <td>zero</td>\n",
       "      <td>Morning</td>\n",
       "      <td>Mumbai</td>\n",
       "      <td>Economy</td>\n",
       "      <td>2.33</td>\n",
       "      <td>1</td>\n",
       "      <td>5953</td>\n",
       "    </tr>\n",
       "  </tbody>\n",
       "</table>\n",
       "</div>"
      ],
      "text/plain": [
       "    Airline   Flight Source_city Departure_time Stops Arrival_time  \\\n",
       "0  SpiceJet  SG-8709       Delhi        Evening  zero        Night   \n",
       "1  SpiceJet  SG-8157       Delhi  Early_Morning  zero      Morning   \n",
       "\n",
       "  Destination_city    Class  Duration  Days_left  Price  \n",
       "0           Mumbai  Economy      2.17          1   5953  \n",
       "1           Mumbai  Economy      2.33          1   5953  "
      ]
     },
     "execution_count": 183,
     "metadata": {},
     "output_type": "execute_result"
    }
   ],
   "source": [
    "df1.columns = [col.capitalize() for col in df1.columns]\n",
    "df1.head(2)"
   ]
  },
  {
   "cell_type": "markdown",
   "id": "919e4eea-f961-43ef-b4f9-2a9da5c03f7f",
   "metadata": {},
   "source": [
    "**columns and their unique values**"
   ]
  },
  {
   "cell_type": "code",
   "execution_count": 246,
   "id": "9c12b94e-49a9-4c4b-a3da-1076743a4e70",
   "metadata": {},
   "outputs": [
    {
     "name": "stdout",
     "output_type": "stream",
     "text": [
      "['SpiceJet' 'AirAsia' 'Vistara' 'GO_FIRST' 'Indigo' 'Air_India']\n",
      "['SG-8709' 'SG-8157' 'I5-764' ... '6E-7127' '6E-7259' 'AI-433']\n",
      "['Delhi' 'Mumbai' 'Bangalore' 'Kolkata' 'Hyderabad' 'Chennai']\n",
      "['Evening' 'Early_Morning' 'Morning' 'Afternoon' 'Night' 'Late_Night']\n",
      "['zero' 'one' 'two_or_more']\n",
      "['Night' 'Morning' 'Early_Morning' 'Afternoon' 'Evening' 'Late_Night']\n",
      "['Mumbai' 'Bangalore' 'Kolkata' 'Hyderabad' 'Chennai' 'Delhi']\n",
      "['Economy' 'Business']\n"
     ]
    }
   ],
   "source": [
    " for col in df1.select_dtypes(include='object').columns:\n",
    "    print(df1[col].unique())"
   ]
  },
  {
   "cell_type": "markdown",
   "id": "991bc255-e3d2-4884-89c8-a31a6b882942",
   "metadata": {},
   "source": [
    "**no null values**"
   ]
  },
  {
   "cell_type": "code",
   "execution_count": 185,
   "id": "16f654b3-5eb7-4d1b-9ef0-215ca75689ab",
   "metadata": {},
   "outputs": [
    {
     "data": {
      "text/plain": [
       "airline             0\n",
       "flight              0\n",
       "source_city         0\n",
       "departure_time      0\n",
       "stops               0\n",
       "arrival_time        0\n",
       "destination_city    0\n",
       "class               0\n",
       "duration            0\n",
       "days_left           0\n",
       "price               0\n",
       "dtype: int64"
      ]
     },
     "execution_count": 185,
     "metadata": {},
     "output_type": "execute_result"
    }
   ],
   "source": [
    "df.isnull().sum()"
   ]
  },
  {
   "cell_type": "markdown",
   "id": "8e865504-3749-4c08-988c-fd1b4556f89e",
   "metadata": {},
   "source": [
    "**no duplicates**"
   ]
  },
  {
   "cell_type": "code",
   "execution_count": 187,
   "id": "e1548b3f-8a1d-44cd-8e6b-330bb37101ff",
   "metadata": {},
   "outputs": [
    {
     "data": {
      "text/plain": [
       "0"
      ]
     },
     "execution_count": 187,
     "metadata": {},
     "output_type": "execute_result"
    }
   ],
   "source": [
    " df1.duplicated().sum()"
   ]
  },
  {
   "cell_type": "markdown",
   "id": "dac61d23-0e8a-4bf0-b827-47d7c1b66ed3",
   "metadata": {},
   "source": [
    "##### **duration = normal skew , bell curve**\n",
    "##### **Days_left = left skew** \n",
    "##### **Price = right skew**\n"
   ]
  },
  {
   "cell_type": "code",
   "execution_count": 189,
   "id": "d41ba583-aef9-4a0d-9d26-3d1803daf3c8",
   "metadata": {},
   "outputs": [
    {
     "data": {
      "text/plain": [
       "Duration     0.602899\n",
       "Days_left   -0.035464\n",
       "Price        1.061377\n",
       "dtype: float64"
      ]
     },
     "execution_count": 189,
     "metadata": {},
     "output_type": "execute_result"
    }
   ],
   "source": [
    "df1.skew(numeric_only=True)"
   ]
  },
  {
   "cell_type": "code",
   "execution_count": 191,
   "id": "164ee2be-3fc5-4d26-8c63-46fc2e2154d0",
   "metadata": {},
   "outputs": [
    {
     "data": {
      "text/plain": [
       "Duration    -0.268996\n",
       "Days_left   -1.156215\n",
       "Price       -0.396293\n",
       "dtype: float64"
      ]
     },
     "execution_count": 191,
     "metadata": {},
     "output_type": "execute_result"
    }
   ],
   "source": [
    "df1.kurt(numeric_only=True)"
   ]
  },
  {
   "cell_type": "markdown",
   "id": "c4c0e252-6d87-4728-9ac7-33cdbc6c3521",
   "metadata": {},
   "source": [
    "# Second Table"
   ]
  },
  {
   "cell_type": "markdown",
   "id": "12342b95-416e-4899-9481-643dd56b288f",
   "metadata": {},
   "source": [
    "**Read the data**"
   ]
  },
  {
   "cell_type": "code",
   "execution_count": 438,
   "id": "3b34a250-3843-4157-8433-1d671664ff35",
   "metadata": {},
   "outputs": [
    {
     "data": {
      "text/html": [
       "<div>\n",
       "<style scoped>\n",
       "    .dataframe tbody tr th:only-of-type {\n",
       "        vertical-align: middle;\n",
       "    }\n",
       "\n",
       "    .dataframe tbody tr th {\n",
       "        vertical-align: top;\n",
       "    }\n",
       "\n",
       "    .dataframe thead th {\n",
       "        text-align: right;\n",
       "    }\n",
       "</style>\n",
       "<table border=\"1\" class=\"dataframe\">\n",
       "  <thead>\n",
       "    <tr style=\"text-align: right;\">\n",
       "      <th></th>\n",
       "      <th>date</th>\n",
       "      <th>airline</th>\n",
       "      <th>ch_code</th>\n",
       "      <th>num_code</th>\n",
       "      <th>dep_time</th>\n",
       "      <th>from</th>\n",
       "      <th>time_taken</th>\n",
       "      <th>stop</th>\n",
       "      <th>arr_time</th>\n",
       "      <th>to</th>\n",
       "      <th>price</th>\n",
       "    </tr>\n",
       "  </thead>\n",
       "  <tbody>\n",
       "    <tr>\n",
       "      <th>0</th>\n",
       "      <td>11-02-2022</td>\n",
       "      <td>Air India</td>\n",
       "      <td>AI</td>\n",
       "      <td>868</td>\n",
       "      <td>18:00</td>\n",
       "      <td>Delhi</td>\n",
       "      <td>02h 00m</td>\n",
       "      <td>non-stop</td>\n",
       "      <td>20:00</td>\n",
       "      <td>Mumbai</td>\n",
       "      <td>25,612</td>\n",
       "    </tr>\n",
       "    <tr>\n",
       "      <th>1</th>\n",
       "      <td>11-02-2022</td>\n",
       "      <td>Air India</td>\n",
       "      <td>AI</td>\n",
       "      <td>624</td>\n",
       "      <td>19:00</td>\n",
       "      <td>Delhi</td>\n",
       "      <td>02h 15m</td>\n",
       "      <td>non-stop</td>\n",
       "      <td>21:15</td>\n",
       "      <td>Mumbai</td>\n",
       "      <td>25,612</td>\n",
       "    </tr>\n",
       "  </tbody>\n",
       "</table>\n",
       "</div>"
      ],
      "text/plain": [
       "         date    airline ch_code  num_code dep_time   from time_taken  \\\n",
       "0  11-02-2022  Air India      AI       868    18:00  Delhi    02h 00m   \n",
       "1  11-02-2022  Air India      AI       624    19:00  Delhi    02h 15m   \n",
       "\n",
       "        stop arr_time      to   price  \n",
       "0  non-stop     20:00  Mumbai  25,612  \n",
       "1  non-stop     21:15  Mumbai  25,612  "
      ]
     },
     "execution_count": 438,
     "metadata": {},
     "output_type": "execute_result"
    }
   ],
   "source": [
    "df2 = pd.read_csv('business.csv')\n",
    "df2.head(2)"
   ]
  },
  {
   "cell_type": "markdown",
   "id": "f1dfeed9-3185-46f8-9595-57b7b42f71de",
   "metadata": {},
   "source": [
    "**captalize column first letter**"
   ]
  },
  {
   "cell_type": "code",
   "execution_count": 441,
   "id": "406bb2e2-743d-4dee-956e-51654869f84c",
   "metadata": {},
   "outputs": [
    {
     "data": {
      "text/html": [
       "<div>\n",
       "<style scoped>\n",
       "    .dataframe tbody tr th:only-of-type {\n",
       "        vertical-align: middle;\n",
       "    }\n",
       "\n",
       "    .dataframe tbody tr th {\n",
       "        vertical-align: top;\n",
       "    }\n",
       "\n",
       "    .dataframe thead th {\n",
       "        text-align: right;\n",
       "    }\n",
       "</style>\n",
       "<table border=\"1\" class=\"dataframe\">\n",
       "  <thead>\n",
       "    <tr style=\"text-align: right;\">\n",
       "      <th></th>\n",
       "      <th>Date</th>\n",
       "      <th>Airline</th>\n",
       "      <th>Ch_code</th>\n",
       "      <th>Num_code</th>\n",
       "      <th>Dep_time</th>\n",
       "      <th>From</th>\n",
       "      <th>Time_taken</th>\n",
       "      <th>Stop</th>\n",
       "      <th>Arr_time</th>\n",
       "      <th>To</th>\n",
       "      <th>Price</th>\n",
       "    </tr>\n",
       "  </thead>\n",
       "  <tbody>\n",
       "    <tr>\n",
       "      <th>0</th>\n",
       "      <td>11-02-2022</td>\n",
       "      <td>Air India</td>\n",
       "      <td>AI</td>\n",
       "      <td>868</td>\n",
       "      <td>18:00</td>\n",
       "      <td>Delhi</td>\n",
       "      <td>02h 00m</td>\n",
       "      <td>non-stop</td>\n",
       "      <td>20:00</td>\n",
       "      <td>Mumbai</td>\n",
       "      <td>25,612</td>\n",
       "    </tr>\n",
       "    <tr>\n",
       "      <th>1</th>\n",
       "      <td>11-02-2022</td>\n",
       "      <td>Air India</td>\n",
       "      <td>AI</td>\n",
       "      <td>624</td>\n",
       "      <td>19:00</td>\n",
       "      <td>Delhi</td>\n",
       "      <td>02h 15m</td>\n",
       "      <td>non-stop</td>\n",
       "      <td>21:15</td>\n",
       "      <td>Mumbai</td>\n",
       "      <td>25,612</td>\n",
       "    </tr>\n",
       "  </tbody>\n",
       "</table>\n",
       "</div>"
      ],
      "text/plain": [
       "         Date    Airline Ch_code  Num_code Dep_time   From Time_taken  \\\n",
       "0  11-02-2022  Air India      AI       868    18:00  Delhi    02h 00m   \n",
       "1  11-02-2022  Air India      AI       624    19:00  Delhi    02h 15m   \n",
       "\n",
       "        Stop Arr_time      To   Price  \n",
       "0  non-stop     20:00  Mumbai  25,612  \n",
       "1  non-stop     21:15  Mumbai  25,612  "
      ]
     },
     "execution_count": 441,
     "metadata": {},
     "output_type": "execute_result"
    }
   ],
   "source": [
    "df2.columns = [col.capitalize() for col in df2.columns]\n",
    "df2.head(2)"
   ]
  },
  {
   "cell_type": "markdown",
   "id": "0a3b4e1d-a1ab-4e3a-8d47-b83c86a79723",
   "metadata": {},
   "source": [
    "**Columns name**"
   ]
  },
  {
   "cell_type": "code",
   "execution_count": null,
   "id": "25466e1c-7597-44b4-9ec5-15e4d6a84cdc",
   "metadata": {},
   "outputs": [],
   "source": [
    "df2.columns"
   ]
  },
  {
   "cell_type": "code",
   "execution_count": 443,
   "id": "0e03acc9-f1d2-4cc3-aa03-f86b86f472d9",
   "metadata": {},
   "outputs": [
    {
     "name": "stdout",
     "output_type": "stream",
     "text": [
      "<class 'pandas.core.frame.DataFrame'>\n",
      "RangeIndex: 93487 entries, 0 to 93486\n",
      "Data columns (total 11 columns):\n",
      " #   Column      Non-Null Count  Dtype \n",
      "---  ------      --------------  ----- \n",
      " 0   Date        93487 non-null  object\n",
      " 1   Airline     93487 non-null  object\n",
      " 2   Ch_code     93487 non-null  object\n",
      " 3   Num_code    93487 non-null  int64 \n",
      " 4   Dep_time    93487 non-null  object\n",
      " 5   From        93487 non-null  object\n",
      " 6   Time_taken  93487 non-null  object\n",
      " 7   Stop        93487 non-null  object\n",
      " 8   Arr_time    93487 non-null  object\n",
      " 9   To          93487 non-null  object\n",
      " 10  Price       93487 non-null  object\n",
      "dtypes: int64(1), object(10)\n",
      "memory usage: 7.8+ MB\n"
     ]
    }
   ],
   "source": [
    "df2.info()"
   ]
  },
  {
   "cell_type": "markdown",
   "id": "2cf75bbf-33ab-4c4c-b38d-ce9620abaa9c",
   "metadata": {},
   "source": [
    "**Change the data type**"
   ]
  },
  {
   "cell_type": "code",
   "execution_count": 446,
   "id": "2949766b-a423-42d0-b824-704313df7588",
   "metadata": {},
   "outputs": [],
   "source": [
    "df2['Date'] = pd.to_datetime(df2['Date'], format='%d-%m-%Y')\n",
    "df2['Dep_time'] = pd.to_datetime(df2['Dep_time'], format='%H:%M').dt.time\n",
    "df2['Arr_time'] = pd.to_datetime(df2['Arr_time'], format='%H:%M').dt.time"
   ]
  },
  {
   "cell_type": "code",
   "execution_count": 448,
   "id": "60882033-4f47-44fb-9ec2-345fc156c47c",
   "metadata": {},
   "outputs": [],
   "source": [
    "df2['Price'] = df2['Price'].str.replace(',', '').astype(int)"
   ]
  },
  {
   "cell_type": "markdown",
   "id": "d44f62eb-d57f-4ebe-b6a5-05b03a039cc2",
   "metadata": {},
   "source": [
    "**changing the data**"
   ]
  },
  {
   "cell_type": "code",
   "execution_count": 451,
   "id": "21924c63-ef18-4956-affb-89f07ab251bb",
   "metadata": {},
   "outputs": [],
   "source": [
    "df2['Stop'] = df2['Stop'].str.replace('\\n', '', regex=True).str.replace('\\t', '', regex=True)"
   ]
  },
  {
   "cell_type": "code",
   "execution_count": 452,
   "id": "6e55c2ae-cab5-4100-92fa-9644f2e92850",
   "metadata": {},
   "outputs": [
    {
     "data": {
      "text/html": [
       "<div>\n",
       "<style scoped>\n",
       "    .dataframe tbody tr th:only-of-type {\n",
       "        vertical-align: middle;\n",
       "    }\n",
       "\n",
       "    .dataframe tbody tr th {\n",
       "        vertical-align: top;\n",
       "    }\n",
       "\n",
       "    .dataframe thead th {\n",
       "        text-align: right;\n",
       "    }\n",
       "</style>\n",
       "<table border=\"1\" class=\"dataframe\">\n",
       "  <thead>\n",
       "    <tr style=\"text-align: right;\">\n",
       "      <th></th>\n",
       "      <th>Date</th>\n",
       "      <th>Airline</th>\n",
       "      <th>Ch_code</th>\n",
       "      <th>Num_code</th>\n",
       "      <th>Dep_time</th>\n",
       "      <th>From</th>\n",
       "      <th>Time_taken</th>\n",
       "      <th>Stop</th>\n",
       "      <th>Arr_time</th>\n",
       "      <th>To</th>\n",
       "      <th>Price</th>\n",
       "    </tr>\n",
       "  </thead>\n",
       "  <tbody>\n",
       "    <tr>\n",
       "      <th>0</th>\n",
       "      <td>2022-02-11</td>\n",
       "      <td>Air India</td>\n",
       "      <td>AI</td>\n",
       "      <td>868</td>\n",
       "      <td>18:00:00</td>\n",
       "      <td>Delhi</td>\n",
       "      <td>02h 00m</td>\n",
       "      <td>non-stop</td>\n",
       "      <td>20:00:00</td>\n",
       "      <td>Mumbai</td>\n",
       "      <td>25612</td>\n",
       "    </tr>\n",
       "    <tr>\n",
       "      <th>1</th>\n",
       "      <td>2022-02-11</td>\n",
       "      <td>Air India</td>\n",
       "      <td>AI</td>\n",
       "      <td>624</td>\n",
       "      <td>19:00:00</td>\n",
       "      <td>Delhi</td>\n",
       "      <td>02h 15m</td>\n",
       "      <td>non-stop</td>\n",
       "      <td>21:15:00</td>\n",
       "      <td>Mumbai</td>\n",
       "      <td>25612</td>\n",
       "    </tr>\n",
       "  </tbody>\n",
       "</table>\n",
       "</div>"
      ],
      "text/plain": [
       "        Date    Airline Ch_code  Num_code  Dep_time   From Time_taken  \\\n",
       "0 2022-02-11  Air India      AI       868  18:00:00  Delhi    02h 00m   \n",
       "1 2022-02-11  Air India      AI       624  19:00:00  Delhi    02h 15m   \n",
       "\n",
       "        Stop  Arr_time      To  Price  \n",
       "0  non-stop   20:00:00  Mumbai  25612  \n",
       "1  non-stop   21:15:00  Mumbai  25612  "
      ]
     },
     "execution_count": 452,
     "metadata": {},
     "output_type": "execute_result"
    }
   ],
   "source": [
    "df2.head(2)"
   ]
  },
  {
   "cell_type": "markdown",
   "id": "df035b94-7b5c-4d19-97ce-ab7d3782a7ed",
   "metadata": {},
   "source": [
    "**No null values**"
   ]
  },
  {
   "cell_type": "code",
   "execution_count": 456,
   "id": "d9c30f81-bf8f-4d9a-8b02-45841a0f3cfa",
   "metadata": {},
   "outputs": [
    {
     "data": {
      "text/plain": [
       "Date          0\n",
       "Airline       0\n",
       "Ch_code       0\n",
       "Num_code      0\n",
       "Dep_time      0\n",
       "From          0\n",
       "Time_taken    0\n",
       "Stop          0\n",
       "Arr_time      0\n",
       "To            0\n",
       "Price         0\n",
       "dtype: int64"
      ]
     },
     "execution_count": 456,
     "metadata": {},
     "output_type": "execute_result"
    }
   ],
   "source": [
    "df2.isnull().sum()"
   ]
  },
  {
   "cell_type": "code",
   "execution_count": 458,
   "id": "9939b6fa-1150-437f-8154-e6f5f948fb82",
   "metadata": {},
   "outputs": [
    {
     "data": {
      "text/html": [
       "<div>\n",
       "<style scoped>\n",
       "    .dataframe tbody tr th:only-of-type {\n",
       "        vertical-align: middle;\n",
       "    }\n",
       "\n",
       "    .dataframe tbody tr th {\n",
       "        vertical-align: top;\n",
       "    }\n",
       "\n",
       "    .dataframe thead th {\n",
       "        text-align: right;\n",
       "    }\n",
       "</style>\n",
       "<table border=\"1\" class=\"dataframe\">\n",
       "  <thead>\n",
       "    <tr style=\"text-align: right;\">\n",
       "      <th></th>\n",
       "      <th>Date</th>\n",
       "      <th>Num_code</th>\n",
       "      <th>Price</th>\n",
       "    </tr>\n",
       "  </thead>\n",
       "  <tbody>\n",
       "    <tr>\n",
       "      <th>count</th>\n",
       "      <td>93487</td>\n",
       "      <td>93487.000000</td>\n",
       "      <td>93487.000000</td>\n",
       "    </tr>\n",
       "    <tr>\n",
       "      <th>mean</th>\n",
       "      <td>2022-03-07 17:48:16.458331136</td>\n",
       "      <td>780.056147</td>\n",
       "      <td>52540.081124</td>\n",
       "    </tr>\n",
       "    <tr>\n",
       "      <th>min</th>\n",
       "      <td>2022-02-11 00:00:00</td>\n",
       "      <td>401.000000</td>\n",
       "      <td>12000.000000</td>\n",
       "    </tr>\n",
       "    <tr>\n",
       "      <th>25%</th>\n",
       "      <td>2022-02-24 00:00:00</td>\n",
       "      <td>706.000000</td>\n",
       "      <td>45185.000000</td>\n",
       "    </tr>\n",
       "    <tr>\n",
       "      <th>50%</th>\n",
       "      <td>2022-03-08 00:00:00</td>\n",
       "      <td>820.000000</td>\n",
       "      <td>53164.000000</td>\n",
       "    </tr>\n",
       "    <tr>\n",
       "      <th>75%</th>\n",
       "      <td>2022-03-20 00:00:00</td>\n",
       "      <td>874.000000</td>\n",
       "      <td>60396.000000</td>\n",
       "    </tr>\n",
       "    <tr>\n",
       "      <th>max</th>\n",
       "      <td>2022-03-31 00:00:00</td>\n",
       "      <td>996.000000</td>\n",
       "      <td>123071.000000</td>\n",
       "    </tr>\n",
       "    <tr>\n",
       "      <th>std</th>\n",
       "      <td>NaN</td>\n",
       "      <td>147.616038</td>\n",
       "      <td>12969.314606</td>\n",
       "    </tr>\n",
       "  </tbody>\n",
       "</table>\n",
       "</div>"
      ],
      "text/plain": [
       "                                Date      Num_code          Price\n",
       "count                          93487  93487.000000   93487.000000\n",
       "mean   2022-03-07 17:48:16.458331136    780.056147   52540.081124\n",
       "min              2022-02-11 00:00:00    401.000000   12000.000000\n",
       "25%              2022-02-24 00:00:00    706.000000   45185.000000\n",
       "50%              2022-03-08 00:00:00    820.000000   53164.000000\n",
       "75%              2022-03-20 00:00:00    874.000000   60396.000000\n",
       "max              2022-03-31 00:00:00    996.000000  123071.000000\n",
       "std                              NaN    147.616038   12969.314606"
      ]
     },
     "execution_count": 458,
     "metadata": {},
     "output_type": "execute_result"
    }
   ],
   "source": [
    "df2.describe()"
   ]
  },
  {
   "cell_type": "markdown",
   "id": "dd17fec8-ba1a-4407-9a06-28ece529502f",
   "metadata": {},
   "source": [
    "**No duplicates value**"
   ]
  },
  {
   "cell_type": "code",
   "execution_count": 461,
   "id": "094c838e-5635-45c0-b257-ad479f24e64a",
   "metadata": {},
   "outputs": [
    {
     "data": {
      "text/plain": [
       "0"
      ]
     },
     "execution_count": 461,
     "metadata": {},
     "output_type": "execute_result"
    }
   ],
   "source": [
    "df2.duplicated().sum()"
   ]
  },
  {
   "cell_type": "markdown",
   "id": "d7fed984-1ec6-43cb-9629-629745977c34",
   "metadata": {},
   "source": [
    "**Both are negative skewed , left skew**"
   ]
  },
  {
   "cell_type": "code",
   "execution_count": 464,
   "id": "3a2623b0-2067-46af-a995-efd6de81e682",
   "metadata": {},
   "outputs": [
    {
     "data": {
      "text/plain": [
       "Num_code   -0.853750\n",
       "Price      -0.095237\n",
       "dtype: float64"
      ]
     },
     "execution_count": 464,
     "metadata": {},
     "output_type": "execute_result"
    }
   ],
   "source": [
    "df2.skew(numeric_only=True)"
   ]
  },
  {
   "cell_type": "code",
   "execution_count": 466,
   "id": "991c849f-9519-4880-acfc-f3681ba9aaf1",
   "metadata": {},
   "outputs": [
    {
     "data": {
      "text/plain": [
       "Num_code   -0.028555\n",
       "Price       0.810360\n",
       "dtype: float64"
      ]
     },
     "execution_count": 466,
     "metadata": {},
     "output_type": "execute_result"
    }
   ],
   "source": [
    "df2.kurt(numeric_only=True)"
   ]
  },
  {
   "cell_type": "code",
   "execution_count": 470,
   "id": "162f8b86-5bb6-48de-ba11-d774062d10b8",
   "metadata": {},
   "outputs": [
    {
     "data": {
      "text/plain": [
       "Num_code      147.616038\n",
       "Price       12969.314606\n",
       "dtype: float64"
      ]
     },
     "execution_count": 470,
     "metadata": {},
     "output_type": "execute_result"
    }
   ],
   "source": [
    "df2.std(numeric_only=True)"
   ]
  },
  {
   "cell_type": "markdown",
   "id": "7d702ed4-d20e-4269-ad15-440ba6ff40f0",
   "metadata": {},
   "source": [
    "# Third Table "
   ]
  },
  {
   "cell_type": "code",
   "execution_count": 473,
   "id": "ff0403ae-d25c-4847-8b78-781bae78ec7d",
   "metadata": {},
   "outputs": [
    {
     "data": {
      "text/html": [
       "<div>\n",
       "<style scoped>\n",
       "    .dataframe tbody tr th:only-of-type {\n",
       "        vertical-align: middle;\n",
       "    }\n",
       "\n",
       "    .dataframe tbody tr th {\n",
       "        vertical-align: top;\n",
       "    }\n",
       "\n",
       "    .dataframe thead th {\n",
       "        text-align: right;\n",
       "    }\n",
       "</style>\n",
       "<table border=\"1\" class=\"dataframe\">\n",
       "  <thead>\n",
       "    <tr style=\"text-align: right;\">\n",
       "      <th></th>\n",
       "      <th>date</th>\n",
       "      <th>airline</th>\n",
       "      <th>ch_code</th>\n",
       "      <th>num_code</th>\n",
       "      <th>dep_time</th>\n",
       "      <th>from</th>\n",
       "      <th>time_taken</th>\n",
       "      <th>stop</th>\n",
       "      <th>arr_time</th>\n",
       "      <th>to</th>\n",
       "      <th>price</th>\n",
       "    </tr>\n",
       "  </thead>\n",
       "  <tbody>\n",
       "    <tr>\n",
       "      <th>0</th>\n",
       "      <td>11-02-2022</td>\n",
       "      <td>SpiceJet</td>\n",
       "      <td>SG</td>\n",
       "      <td>8709</td>\n",
       "      <td>18:55</td>\n",
       "      <td>Delhi</td>\n",
       "      <td>02h 10m</td>\n",
       "      <td>non-stop</td>\n",
       "      <td>21:05</td>\n",
       "      <td>Mumbai</td>\n",
       "      <td>5,953</td>\n",
       "    </tr>\n",
       "    <tr>\n",
       "      <th>1</th>\n",
       "      <td>11-02-2022</td>\n",
       "      <td>SpiceJet</td>\n",
       "      <td>SG</td>\n",
       "      <td>8157</td>\n",
       "      <td>06:20</td>\n",
       "      <td>Delhi</td>\n",
       "      <td>02h 20m</td>\n",
       "      <td>non-stop</td>\n",
       "      <td>08:40</td>\n",
       "      <td>Mumbai</td>\n",
       "      <td>5,953</td>\n",
       "    </tr>\n",
       "    <tr>\n",
       "      <th>2</th>\n",
       "      <td>11-02-2022</td>\n",
       "      <td>AirAsia</td>\n",
       "      <td>I5</td>\n",
       "      <td>764</td>\n",
       "      <td>04:25</td>\n",
       "      <td>Delhi</td>\n",
       "      <td>02h 10m</td>\n",
       "      <td>non-stop</td>\n",
       "      <td>06:35</td>\n",
       "      <td>Mumbai</td>\n",
       "      <td>5,956</td>\n",
       "    </tr>\n",
       "    <tr>\n",
       "      <th>3</th>\n",
       "      <td>11-02-2022</td>\n",
       "      <td>Vistara</td>\n",
       "      <td>UK</td>\n",
       "      <td>995</td>\n",
       "      <td>10:20</td>\n",
       "      <td>Delhi</td>\n",
       "      <td>02h 15m</td>\n",
       "      <td>non-stop</td>\n",
       "      <td>12:35</td>\n",
       "      <td>Mumbai</td>\n",
       "      <td>5,955</td>\n",
       "    </tr>\n",
       "    <tr>\n",
       "      <th>4</th>\n",
       "      <td>11-02-2022</td>\n",
       "      <td>Vistara</td>\n",
       "      <td>UK</td>\n",
       "      <td>963</td>\n",
       "      <td>08:50</td>\n",
       "      <td>Delhi</td>\n",
       "      <td>02h 20m</td>\n",
       "      <td>non-stop</td>\n",
       "      <td>11:10</td>\n",
       "      <td>Mumbai</td>\n",
       "      <td>5,955</td>\n",
       "    </tr>\n",
       "  </tbody>\n",
       "</table>\n",
       "</div>"
      ],
      "text/plain": [
       "         date   airline ch_code  num_code dep_time   from time_taken  \\\n",
       "0  11-02-2022  SpiceJet      SG      8709    18:55  Delhi    02h 10m   \n",
       "1  11-02-2022  SpiceJet      SG      8157    06:20  Delhi    02h 20m   \n",
       "2  11-02-2022   AirAsia      I5       764    04:25  Delhi    02h 10m   \n",
       "3  11-02-2022   Vistara      UK       995    10:20  Delhi    02h 15m   \n",
       "4  11-02-2022   Vistara      UK       963    08:50  Delhi    02h 20m   \n",
       "\n",
       "        stop arr_time      to  price  \n",
       "0  non-stop     21:05  Mumbai  5,953  \n",
       "1  non-stop     08:40  Mumbai  5,953  \n",
       "2  non-stop     06:35  Mumbai  5,956  \n",
       "3  non-stop     12:35  Mumbai  5,955  \n",
       "4  non-stop     11:10  Mumbai  5,955  "
      ]
     },
     "execution_count": 473,
     "metadata": {},
     "output_type": "execute_result"
    }
   ],
   "source": [
    "df3 = pd.read_csv('economy.csv')\n",
    "df3.head()"
   ]
  },
  {
   "cell_type": "markdown",
   "id": "4d441091-79c7-413d-80ff-aa68dc978ce3",
   "metadata": {},
   "source": [
    "**Columns Name**"
   ]
  },
  {
   "cell_type": "code",
   "execution_count": 502,
   "id": "847541ed-d07a-467e-b8a2-239530f155ad",
   "metadata": {},
   "outputs": [
    {
     "data": {
      "text/plain": [
       "Index(['Date', 'Airline', 'Ch_code', 'Num_code', 'Dep_time', 'From',\n",
       "       'Time_taken', 'Stop', 'Arr_time', 'To', 'Price'],\n",
       "      dtype='object')"
      ]
     },
     "execution_count": 502,
     "metadata": {},
     "output_type": "execute_result"
    }
   ],
   "source": [
    "df3.columns"
   ]
  },
  {
   "cell_type": "code",
   "execution_count": 474,
   "id": "be467f4f-678c-412c-94af-c550b24291af",
   "metadata": {},
   "outputs": [
    {
     "name": "stdout",
     "output_type": "stream",
     "text": [
      "<class 'pandas.core.frame.DataFrame'>\n",
      "RangeIndex: 206774 entries, 0 to 206773\n",
      "Data columns (total 11 columns):\n",
      " #   Column      Non-Null Count   Dtype \n",
      "---  ------      --------------   ----- \n",
      " 0   date        206774 non-null  object\n",
      " 1   airline     206774 non-null  object\n",
      " 2   ch_code     206774 non-null  object\n",
      " 3   num_code    206774 non-null  int64 \n",
      " 4   dep_time    206774 non-null  object\n",
      " 5   from        206774 non-null  object\n",
      " 6   time_taken  206774 non-null  object\n",
      " 7   stop        206774 non-null  object\n",
      " 8   arr_time    206774 non-null  object\n",
      " 9   to          206774 non-null  object\n",
      " 10  price       206774 non-null  object\n",
      "dtypes: int64(1), object(10)\n",
      "memory usage: 17.4+ MB\n"
     ]
    }
   ],
   "source": [
    "df3.info()"
   ]
  },
  {
   "cell_type": "code",
   "execution_count": 475,
   "id": "ce13fa2c-022f-43ec-bf1b-8e3af33cfdae",
   "metadata": {},
   "outputs": [
    {
     "data": {
      "text/html": [
       "<div>\n",
       "<style scoped>\n",
       "    .dataframe tbody tr th:only-of-type {\n",
       "        vertical-align: middle;\n",
       "    }\n",
       "\n",
       "    .dataframe tbody tr th {\n",
       "        vertical-align: top;\n",
       "    }\n",
       "\n",
       "    .dataframe thead th {\n",
       "        text-align: right;\n",
       "    }\n",
       "</style>\n",
       "<table border=\"1\" class=\"dataframe\">\n",
       "  <thead>\n",
       "    <tr style=\"text-align: right;\">\n",
       "      <th></th>\n",
       "      <th>Date</th>\n",
       "      <th>Airline</th>\n",
       "      <th>Ch_code</th>\n",
       "      <th>Num_code</th>\n",
       "      <th>Dep_time</th>\n",
       "      <th>From</th>\n",
       "      <th>Time_taken</th>\n",
       "      <th>Stop</th>\n",
       "      <th>Arr_time</th>\n",
       "      <th>To</th>\n",
       "      <th>Price</th>\n",
       "    </tr>\n",
       "  </thead>\n",
       "  <tbody>\n",
       "    <tr>\n",
       "      <th>0</th>\n",
       "      <td>11-02-2022</td>\n",
       "      <td>SpiceJet</td>\n",
       "      <td>SG</td>\n",
       "      <td>8709</td>\n",
       "      <td>18:55</td>\n",
       "      <td>Delhi</td>\n",
       "      <td>02h 10m</td>\n",
       "      <td>non-stop</td>\n",
       "      <td>21:05</td>\n",
       "      <td>Mumbai</td>\n",
       "      <td>5,953</td>\n",
       "    </tr>\n",
       "    <tr>\n",
       "      <th>1</th>\n",
       "      <td>11-02-2022</td>\n",
       "      <td>SpiceJet</td>\n",
       "      <td>SG</td>\n",
       "      <td>8157</td>\n",
       "      <td>06:20</td>\n",
       "      <td>Delhi</td>\n",
       "      <td>02h 20m</td>\n",
       "      <td>non-stop</td>\n",
       "      <td>08:40</td>\n",
       "      <td>Mumbai</td>\n",
       "      <td>5,953</td>\n",
       "    </tr>\n",
       "  </tbody>\n",
       "</table>\n",
       "</div>"
      ],
      "text/plain": [
       "         Date   Airline Ch_code  Num_code Dep_time   From Time_taken  \\\n",
       "0  11-02-2022  SpiceJet      SG      8709    18:55  Delhi    02h 10m   \n",
       "1  11-02-2022  SpiceJet      SG      8157    06:20  Delhi    02h 20m   \n",
       "\n",
       "        Stop Arr_time      To  Price  \n",
       "0  non-stop     21:05  Mumbai  5,953  \n",
       "1  non-stop     08:40  Mumbai  5,953  "
      ]
     },
     "execution_count": 475,
     "metadata": {},
     "output_type": "execute_result"
    }
   ],
   "source": [
    "df3.columns = [col.capitalize() for col in df3.columns]\n",
    "df3.head(2)"
   ]
  },
  {
   "cell_type": "markdown",
   "id": "a63c9225-324b-4d03-b24e-5ba41dba4155",
   "metadata": {},
   "source": [
    "**changing the data type and data**"
   ]
  },
  {
   "cell_type": "code",
   "execution_count": 476,
   "id": "a5bdf4cf-6281-4c52-863f-d93b46ca4069",
   "metadata": {},
   "outputs": [],
   "source": [
    "df3['Date'] = pd.to_datetime(df3['Date'], format='%d-%m-%Y')\n",
    "df3['Dep_time'] = pd.to_datetime(df3['Dep_time'], format='%H:%M').dt.time\n",
    "df3['Arr_time'] = pd.to_datetime(df3['Arr_time'], format='%H:%M').dt.time\n",
    "df3['Price'] = df3['Price'].str.replace(',', '').astype(int)"
   ]
  },
  {
   "cell_type": "code",
   "execution_count": 490,
   "id": "84fbc5a0-8e56-46c3-b764-404280442c55",
   "metadata": {},
   "outputs": [],
   "source": [
    "df3['Stop'] = df3['Stop'].str.replace('\\n', '', regex=True).str.replace('\\t', '', regex=True)"
   ]
  },
  {
   "cell_type": "markdown",
   "id": "186b7599-fe3e-409c-b78c-bbeb1e24ab49",
   "metadata": {},
   "source": [
    "**No null values**"
   ]
  },
  {
   "cell_type": "code",
   "execution_count": 505,
   "id": "89c16ce4-c07d-458a-b59f-4cb4ec407953",
   "metadata": {},
   "outputs": [
    {
     "data": {
      "text/plain": [
       "Date          0\n",
       "Airline       0\n",
       "Ch_code       0\n",
       "Num_code      0\n",
       "Dep_time      0\n",
       "From          0\n",
       "Time_taken    0\n",
       "Stop          0\n",
       "Arr_time      0\n",
       "To            0\n",
       "Price         0\n",
       "dtype: int64"
      ]
     },
     "execution_count": 505,
     "metadata": {},
     "output_type": "execute_result"
    }
   ],
   "source": [
    "df3.isnull().sum()"
   ]
  },
  {
   "cell_type": "markdown",
   "id": "b90df261-64e6-4788-98af-f463fb152c4f",
   "metadata": {},
   "source": [
    "**2 duplicates only**"
   ]
  },
  {
   "cell_type": "code",
   "execution_count": 510,
   "id": "4836b39c-3763-4bfb-95af-02c17e371e3e",
   "metadata": {},
   "outputs": [
    {
     "data": {
      "text/plain": [
       "2"
      ]
     },
     "execution_count": 510,
     "metadata": {},
     "output_type": "execute_result"
    }
   ],
   "source": [
    "df3.duplicated().sum()"
   ]
  },
  {
   "cell_type": "markdown",
   "id": "ef3f85a5-52c6-4dda-8f8e-a89b029972e9",
   "metadata": {},
   "source": [
    "**Drop duplicates**"
   ]
  },
  {
   "cell_type": "code",
   "execution_count": 519,
   "id": "5ab8b9d3-1457-4584-bfb1-761b76baaefb",
   "metadata": {},
   "outputs": [],
   "source": [
    "df3.drop_duplicates(inplace=True)"
   ]
  },
  {
   "cell_type": "code",
   "execution_count": 521,
   "id": "f497620c-588f-494e-b5fa-d07e59ea76ec",
   "metadata": {},
   "outputs": [
    {
     "data": {
      "text/plain": [
       "0"
      ]
     },
     "execution_count": 521,
     "metadata": {},
     "output_type": "execute_result"
    }
   ],
   "source": [
    "df3.duplicated().sum()"
   ]
  },
  {
   "cell_type": "markdown",
   "id": "fed942fa-2b0c-4451-af4d-0b472a9c1246",
   "metadata": {},
   "source": [
    "**Both are right skew**"
   ]
  },
  {
   "cell_type": "code",
   "execution_count": 524,
   "id": "d6681fac-4f7f-4f00-bde8-0db78d06c019",
   "metadata": {},
   "outputs": [
    {
     "data": {
      "text/plain": [
       "Num_code    2.155806\n",
       "Price       1.703249\n",
       "dtype: float64"
      ]
     },
     "execution_count": 524,
     "metadata": {},
     "output_type": "execute_result"
    }
   ],
   "source": [
    "df3.skew(numeric_only=True)"
   ]
  },
  {
   "cell_type": "markdown",
   "id": "32fd0427-9035-41fd-862f-c4ac644485a6",
   "metadata": {},
   "source": [
    "**high weight on the right side**"
   ]
  },
  {
   "cell_type": "code",
   "execution_count": 529,
   "id": "71255b9a-d043-474c-8ea4-edf5e0d3961d",
   "metadata": {},
   "outputs": [
    {
     "data": {
      "text/plain": [
       "Num_code    3.392807\n",
       "Price       4.172751\n",
       "dtype: float64"
      ]
     },
     "execution_count": 529,
     "metadata": {},
     "output_type": "execute_result"
    }
   ],
   "source": [
    "df3.kurt(numeric_only=True)"
   ]
  },
  {
   "cell_type": "code",
   "execution_count": null,
   "id": "e31a647f-805e-4ccd-a4c7-5ee3157a0751",
   "metadata": {},
   "outputs": [],
   "source": []
  },
  {
   "cell_type": "code",
   "execution_count": null,
   "id": "56f928f2-e9c2-45cd-a733-24c6f0f49468",
   "metadata": {},
   "outputs": [],
   "source": []
  }
 ],
 "metadata": {
  "kernelspec": {
   "display_name": "Python 3 (ipykernel)",
   "language": "python",
   "name": "python3"
  },
  "language_info": {
   "codemirror_mode": {
    "name": "ipython",
    "version": 3
   },
   "file_extension": ".py",
   "mimetype": "text/x-python",
   "name": "python",
   "nbconvert_exporter": "python",
   "pygments_lexer": "ipython3",
   "version": "3.12.4"
  }
 },
 "nbformat": 4,
 "nbformat_minor": 5
}
